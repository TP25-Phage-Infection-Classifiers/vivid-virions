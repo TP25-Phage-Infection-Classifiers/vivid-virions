{
 "cells": [
  {
   "cell_type": "markdown",
   "id": "82fec2b4",
   "metadata": {},
   "source": [
    "# User Story 16\n",
    "@LuiseJedlitschka\n",
    "\n",
    "As already defined in leave-one-group-out.ipynb we use the metrics 'precision', 'recall', 'f1-score','support' to evaluate the split strategies. Here a random forest model is being trained with each split option. We evaluate the results and search for the strategy with the highest accuracy result, which is the stratified 80/20 split."
   ]
  },
  {
   "cell_type": "code",
   "execution_count": 7,
   "id": "ef7346ad",
   "metadata": {},
   "outputs": [
    {
     "name": "stdout",
     "output_type": "stream",
     "text": [
      "X_train: (923, 8089); y_train: (923,)\n",
      "X_train: (231, 8089); y_train: (231,)\n",
      "{'early': {'precision': 0.5125, 'recall': 0.6721311475409836, 'f1-score': 0.5815602836879432, 'support': 61.0}, 'late': {'precision': 0.5978260869565217, 'recall': 0.5978260869565217, 'f1-score': 0.5978260869565217, 'support': 92.0}, 'middle': {'precision': 0.4915254237288136, 'recall': 0.3717948717948718, 'f1-score': 0.4233576642335766, 'support': 78.0}, 'accuracy': 0.5411255411255411, 'macro avg': {'precision': 0.5339505035617784, 'recall': 0.547250702097459, 'f1-score': 0.5342480116260139, 'support': 231.0}, 'weighted avg': {'precision': 0.5394003595274781, 'recall': 0.5411255411255411, 'f1-score': 0.5346193727930022, 'support': 231.0}}\n",
      "X_train: (1100, 8089); y_train: (1100,)\n",
      "X_train: (54, 8089); y_train: (54,)\n",
      "{'early': {'precision': 0.0, 'recall': 0.0, 'f1-score': 0.0, 'support': 3.0}, 'late': {'precision': 0.8, 'recall': 0.125, 'f1-score': 0.21621621621621623, 'support': 32.0}, 'middle': {'precision': 0.3023255813953488, 'recall': 0.6842105263157895, 'f1-score': 0.41935483870967744, 'support': 19.0}, 'accuracy': 0.3148148148148148, 'macro avg': {'precision': 0.36744186046511623, 'recall': 0.26973684210526316, 'f1-score': 0.21185701830863124, 'support': 54.0}, 'weighted avg': {'precision': 0.5804478897502153, 'recall': 0.3148148148148148, 'f1-score': 0.2756789047111628, 'support': 54.0}}\n",
      "X_train: (917, 8089); y_train: (917,)\n",
      "X_train: (237, 8089); y_train: (237,)\n",
      "{'early': {'precision': 0.38, 'recall': 0.24358974358974358, 'f1-score': 0.296875, 'support': 78.0}, 'late': {'precision': 0.3277310924369748, 'recall': 0.6610169491525424, 'f1-score': 0.43820224719101125, 'support': 59.0}, 'middle': {'precision': 0.3235294117647059, 'recall': 0.22, 'f1-score': 0.2619047619047619, 'support': 100.0}, 'accuracy': 0.33755274261603374, 'macro avg': {'precision': 0.3437535014005602, 'recall': 0.374868897580762, 'f1-score': 0.3323273363652577, 'support': 237.0}, 'weighted avg': {'precision': 0.3431606566677304, 'recall': 0.33755274261603374, 'f1-score': 0.3173023576993496, 'support': 237.0}}\n",
      "X_train: (866, 8089); y_train: (866,)\n",
      "X_train: (288, 8089); y_train: (288,)\n",
      "{'early': {'precision': 0.7027027027027027, 'recall': 0.16049382716049382, 'f1-score': 0.2613065326633166, 'support': 162.0}, 'late': {'precision': 0.4121212121212121, 'recall': 0.5811965811965812, 'f1-score': 0.48226950354609927, 'support': 117.0}, 'middle': {'precision': 0.046511627906976744, 'recall': 0.4444444444444444, 'f1-score': 0.08421052631578947, 'support': 9.0}, 'accuracy': 0.3402777777777778, 'macro avg': {'precision': 0.3871118475769639, 'recall': 0.39537828426717314, 'f1-score': 0.27592885417506846, 'support': 288.0}, 'weighted avg': {'precision': 0.5641480010666057, 'recall': 0.3402777777777778, 'f1-score': 0.34553848938608683, 'support': 288.0}}\n",
      "X_train: (1094, 8089); y_train: (1094,)\n",
      "X_train: (60, 8089); y_train: (60,)\n",
      "{'early': {'precision': 0.0, 'recall': 0.0, 'f1-score': 0.0, 'support': 7.0}, 'late': {'precision': 0.38636363636363635, 'recall': 0.8095238095238095, 'f1-score': 0.5230769230769231, 'support': 21.0}, 'middle': {'precision': 0.75, 'recall': 0.1875, 'f1-score': 0.3, 'support': 32.0}, 'accuracy': 0.38333333333333336, 'macro avg': {'precision': 0.37878787878787873, 'recall': 0.3323412698412698, 'f1-score': 0.27435897435897433, 'support': 60.0}, 'weighted avg': {'precision': 0.5352272727272727, 'recall': 0.38333333333333336, 'f1-score': 0.34307692307692306, 'support': 60.0}}\n",
      "X_train: (693, 8089); y_train: (693,)\n",
      "X_train: (461, 8089); y_train: (461,)\n",
      "{'early': {'precision': 0.10270270270270271, 'recall': 0.41304347826086957, 'f1-score': 0.1645021645021645, 'support': 46.0}, 'late': {'precision': 0.5654450261780105, 'recall': 0.5167464114832536, 'f1-score': 0.54, 'support': 209.0}, 'middle': {'precision': 0.38823529411764707, 'recall': 0.16019417475728157, 'f1-score': 0.2268041237113402, 'support': 206.0}, 'accuracy': 0.3470715835140998, 'macro avg': {'precision': 0.35212767433278674, 'recall': 0.3633280215004682, 'f1-score': 0.3104354294045016, 'support': 461.0}, 'weighted avg': {'precision': 0.4400841765374487, 'recall': 0.3470715835140998, 'f1-score': 0.3625786313484505, 'support': 461.0}}\n",
      "X_train: (1100, 8089); y_train: (1100,)\n",
      "X_train: (54, 8089); y_train: (54,)\n",
      "{'early': {'precision': 0.2608695652173913, 'recall': 0.6666666666666666, 'f1-score': 0.375, 'support': 9.0}, 'late': {'precision': 0.47368421052631576, 'recall': 0.391304347826087, 'f1-score': 0.42857142857142855, 'support': 23.0}, 'middle': {'precision': 0.25, 'recall': 0.13636363636363635, 'f1-score': 0.17647058823529413, 'support': 22.0}, 'accuracy': 0.3333333333333333, 'macro avg': {'precision': 0.328184591914569, 'recall': 0.39811155028546336, 'f1-score': 0.32668067226890757, 'support': 54.0}, 'weighted avg': {'precision': 0.34708449868632935, 'recall': 0.3333333333333333, 'f1-score': 0.3169351073762838, 'support': 54.0}}\n",
      "\n",
      "Bester Split:\n",
      "Train: ../data/combined-data-stratified-split/train_data.tsv\n",
      "Test: ../data/combined-data-stratified-split/test_data.tsv\n",
      "Accuracy: 0.5411\n"
     ]
    }
   ],
   "source": [
    "import pandas as pd\n",
    "from sklearn.preprocessing import LabelEncoder\n",
    "from sklearn.tree import DecisionTreeClassifier\n",
    "from sklearn.metrics import classification_report\n",
    "\n",
    "def test_model(train_path, test_path):\n",
    "    train_df = pd.read_csv(train_path, sep=\"\\t\")\n",
    "    test_df = pd.read_csv(test_path, sep=\"\\t\")\n",
    "\n",
    "    le = LabelEncoder()\n",
    "    le.fit(train_df[\"classification_x\"])\n",
    "\n",
    "    # detect Features\n",
    "    feature_cols = [\n",
    "        col for col in train_df.columns\n",
    "        if col not in [\"Unnamed: 0\", \"Geneid\", \"DNASequence\", \"classification_x\", \"group\"]\n",
    "    ]\n",
    "\n",
    "    X_train = train_df[feature_cols]\n",
    "    y_train = train_df[\"classification_x\"]\n",
    "\n",
    "    X_val = test_df[feature_cols]\n",
    "    y_val = test_df[\"classification_x\"]\n",
    "\n",
    "    print(f\"X_train: {X_train.shape}; y_train: {y_train.shape}\")\n",
    "    print(f\"X_train: {X_val.shape}; y_train: {y_val.shape}\")\n",
    "\n",
    "    clf = DecisionTreeClassifier(random_state=42)\n",
    "    clf.fit(X_train, y_train)\n",
    "\n",
    "    y_pred = clf.predict(X_val)\n",
    "    report = classification_report(y_val, y_pred, target_names=le.classes_, output_dict=True)\n",
    "    print(report)\n",
    "\n",
    "    accuracy = report[\"accuracy\"]\n",
    "\n",
    "    # return Accuracy and Split-Info\n",
    "    return accuracy, train_path, test_path\n",
    "\n",
    "# List of all splits\n",
    "splits = [\n",
    "    (\"../data/combined-data-stratified-split/train_data.tsv\", \"../data/combined-data-stratified-split/test_data.tsv\"),\n",
    "    (\"../data/leave-one-group-out-split/splits/train_split_0.tsv\", \"../data/leave-one-group-out-split/splits/test_split_0.tsv\"),\n",
    "    (\"../data/leave-one-group-out-split/splits/train_split_1.tsv\", \"../data/leave-one-group-out-split/splits/test_split_1.tsv\"),\n",
    "    (\"../data/leave-one-group-out-split/splits/train_split_2.tsv\", \"../data/leave-one-group-out-split/splits/test_split_2.tsv\"),\n",
    "    (\"../data/leave-one-group-out-split/splits/train_split_3.tsv\", \"../data/leave-one-group-out-split/splits/test_split_3.tsv\"),\n",
    "    (\"../data/leave-one-group-out-split/splits/train_split_4.tsv\", \"../data/leave-one-group-out-split/splits/test_split_4.tsv\"),\n",
    "    (\"../data/leave-one-group-out-split/splits/train_split_5.tsv\", \"../data/leave-one-group-out-split/splits/test_split_5.tsv\")\n",
    "]\n",
    "\n",
    "results = []\n",
    "for train_path, test_path in splits:\n",
    "    accuracy, train_path, test_path = test_model(train_path, test_path)\n",
    "    results.append((accuracy, train_path, test_path))\n",
    "\n",
    "# find best Split depending on accuracy and print its Info\n",
    "best = max(results, key=lambda x: x[0])\n",
    "print(\"\\nBester Split:\")\n",
    "print(f\"Train: {best[1]}\\nTest: {best[2]}\\nAccuracy: {best[0]:.4f}\")\n"
   ]
  }
 ],
 "metadata": {
  "kernelspec": {
   "display_name": "base",
   "language": "python",
   "name": "python3"
  },
  "language_info": {
   "codemirror_mode": {
    "name": "ipython",
    "version": 3
   },
   "file_extension": ".py",
   "mimetype": "text/x-python",
   "name": "python",
   "nbconvert_exporter": "python",
   "pygments_lexer": "ipython3",
   "version": "3.12.7"
  }
 },
 "nbformat": 4,
 "nbformat_minor": 5
}
